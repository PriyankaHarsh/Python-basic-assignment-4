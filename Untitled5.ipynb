{
  "nbformat": 4,
  "nbformat_minor": 0,
  "metadata": {
    "colab": {
      "provenance": []
    },
    "kernelspec": {
      "name": "python3",
      "display_name": "Python 3"
    },
    "language_info": {
      "name": "python"
    }
  },
  "cells": [
    {
      "cell_type": "markdown",
      "source": [
        "\n",
        "ASSIGNMENT 4\n",
        "\n",
        "---\n",
        "\n"
      ],
      "metadata": {
        "id": "2OjAw8W5pzek"
      }
    },
    {
      "cell_type": "markdown",
      "source": [
        "1. What exactly is []?"
      ],
      "metadata": {
        "id": "Yxa2NmXZqALT"
      }
    },
    {
      "cell_type": "markdown",
      "source": [
        "[] represents an empty list in Python.\n"
      ],
      "metadata": {
        "id": "lmlDNDQmqH5P"
      }
    },
    {
      "cell_type": "markdown",
      "source": [
        "2. In a list of values stored in a variable called spam, how would you assign the value &#39;hello&#39; as the\n",
        "third value? (Assume [2, 4, 6, 8, 10] are in spam.)Let&#39;s pretend the spam includes the list [&#39;a&#39;, &#39;b&#39;, &#39;c&#39;, &#39;d&#39;] for the next three queries."
      ],
      "metadata": {
        "id": "vzxYMoZrqPXS"
      }
    },
    {
      "cell_type": "markdown",
      "source": [
        "To assign the value 'hello' as the third value in a list stored in a variable called spam, you can use the following code:"
      ],
      "metadata": {
        "id": "2juuQVs2qoV-"
      }
    },
    {
      "cell_type": "code",
      "source": [
        "spam = [2, 4, 6, 8, 10]\n",
        "spam[2] = 'hello'\n"
      ],
      "metadata": {
        "id": "nrOoSydAquQP"
      },
      "execution_count": null,
      "outputs": []
    },
    {
      "cell_type": "markdown",
      "source": [
        "3. What is the value of spam[int(int(&#39;3&#39; * 2) / 11)]?"
      ],
      "metadata": {
        "id": "IztQTkMBq0Kj"
      }
    },
    {
      "cell_type": "markdown",
      "source": [
        "The value of spam[int(int('3' * 2) / 11)] is 'd'. The expression inside the square brackets evaluates to 3, and spam[3] corresponds to the element 'd' in the list."
      ],
      "metadata": {
        "id": "LjgfYoLtrFDh"
      }
    },
    {
      "cell_type": "markdown",
      "source": [
        "4. What is the value of spam[-1]?\n"
      ],
      "metadata": {
        "id": "vnTNeygBrGkq"
      }
    },
    {
      "cell_type": "markdown",
      "source": [
        "The value of spam[-1] is the last element of the list, which is 'd'.\n",
        "\n"
      ],
      "metadata": {
        "id": "u_ts3btBrN-P"
      }
    },
    {
      "cell_type": "markdown",
      "source": [
        "5. What is the value of spam[:2]?\n",
        "Let&#39;s pretend bacon has the list [3.14, &#39;cat,&#39; 11, &#39;cat,&#39; True] for the next three questions."
      ],
      "metadata": {
        "id": "eaLab3MHc1-g"
      }
    },
    {
      "cell_type": "markdown",
      "source": [
        "For the list spam (pretending it contains the values ['a', 'b', 'c', 'd']), the correct answer to question 5 is:"
      ],
      "metadata": {
        "id": "5HBsl8fidAWq"
      }
    },
    {
      "cell_type": "code",
      "source": [
        "spam[:2]\n"
      ],
      "metadata": {
        "colab": {
          "base_uri": "https://localhost:8080/"
        },
        "id": "wTcVeqkLdBjS",
        "outputId": "5fb37ad0-887d-4f9a-d4a7-a0d7c8850de2"
      },
      "execution_count": null,
      "outputs": [
        {
          "output_type": "execute_result",
          "data": {
            "text/plain": [
              "[2, 4]"
            ]
          },
          "metadata": {},
          "execution_count": 2
        }
      ]
    },
    {
      "cell_type": "markdown",
      "source": [
        "This would result in a new list containing the first two elements of spam, i.e., ['a', 'b']."
      ],
      "metadata": {
        "id": "-zZZu6fcdHNF"
      }
    },
    {
      "cell_type": "markdown",
      "source": [
        "6. What is the value of bacon.index(&#39;cat&#39;)?"
      ],
      "metadata": {
        "id": "Utucynd6dK3l"
      }
    },
    {
      "cell_type": "markdown",
      "source": [
        "\n",
        "For the list bacon (pretending it contains the values [3.14, 'cat', 11, 'cat', True]), the value of bacon.index('cat') would be 1. This is because the index() method returns the index of the first occurrence of the specified value, and in this case, 'cat' first appears at index 1 in the list.\n",
        "\n",
        "\n",
        "\n",
        "\n"
      ],
      "metadata": {
        "id": "NsfGcGSZdRoE"
      }
    },
    {
      "cell_type": "markdown",
      "source": [
        "7. How does bacon.append(99) change the look of the list value in bacon?"
      ],
      "metadata": {
        "id": "ilKwU1QkdSif"
      }
    },
    {
      "cell_type": "markdown",
      "source": [
        "After the bacon.append(99) operation, the list bacon (pretending it contains the values [3.14, 'cat', 11, 'cat', True]) would be modified, and its new look would be:"
      ],
      "metadata": {
        "id": "2Ohinx5wdZcW"
      }
    },
    {
      "cell_type": "code",
      "source": [
        "[3.14, 'cat', 11, 'cat', True, 99]\n"
      ],
      "metadata": {
        "colab": {
          "base_uri": "https://localhost:8080/"
        },
        "id": "xhgBLUDNdaqR",
        "outputId": "2cfb1c87-5e16-4372-ba5f-515e1f122faf"
      },
      "execution_count": null,
      "outputs": [
        {
          "output_type": "execute_result",
          "data": {
            "text/plain": [
              "[3.14, 'cat', 11, 'cat', True, 99]"
            ]
          },
          "metadata": {},
          "execution_count": 3
        }
      ]
    },
    {
      "cell_type": "markdown",
      "source": [
        "The append() method adds the value 99 to the end of the list, extending the list with the new element."
      ],
      "metadata": {
        "id": "bQEBiJ3uddlM"
      }
    },
    {
      "cell_type": "markdown",
      "source": [
        "8. How does bacon.remove(&#39;cat&#39;) change the look of the list in bacon?"
      ],
      "metadata": {
        "id": "onM3WkRSdhBN"
      }
    },
    {
      "cell_type": "markdown",
      "source": [
        "\n",
        "After the bacon.remove('cat') operation, the list bacon (pretending it contains the values [3.14, 'cat', 11, 'cat', True]) would be modified, and its new look would be:"
      ],
      "metadata": {
        "id": "uTHk5JNQdoUC"
      }
    },
    {
      "cell_type": "code",
      "source": [
        "[3.14, 11, 'cat', True]\n"
      ],
      "metadata": {
        "colab": {
          "base_uri": "https://localhost:8080/"
        },
        "id": "LRbkNabrdpY4",
        "outputId": "cf942aaa-1add-4d8c-e523-9cf34f2bc629"
      },
      "execution_count": null,
      "outputs": [
        {
          "output_type": "execute_result",
          "data": {
            "text/plain": [
              "[3.14, 11, 'cat', True]"
            ]
          },
          "metadata": {},
          "execution_count": 4
        }
      ]
    },
    {
      "cell_type": "markdown",
      "source": [
        "The remove() method removes the first occurrence of the specified value, 'cat' in this case, from the list. In this example, the first occurrence of 'cat' at index 1 is removed from the list.\n",
        "\n",
        "\n",
        "\n",
        "\n"
      ],
      "metadata": {
        "id": "9A2Iq0j6duRo"
      }
    },
    {
      "cell_type": "markdown",
      "source": [
        "9. What are the list concatenation and list replication operators?"
      ],
      "metadata": {
        "id": "J8aiTWADdvPL"
      }
    },
    {
      "cell_type": "markdown",
      "source": [
        "The list concatenation operator in Python is +. It is used to concatenate (join) two lists, creating a new list that contains all the elements of the concatenated lists."
      ],
      "metadata": {
        "id": "5NSPNxs4d7o1"
      }
    },
    {
      "cell_type": "code",
      "source": [
        "list1 = [1, 2, 3]\n",
        "list2 = [4, 5, 6]\n",
        "concatenated_list = list1 + list2\n"
      ],
      "metadata": {
        "id": "YpDNUdp6d8qv"
      },
      "execution_count": null,
      "outputs": []
    },
    {
      "cell_type": "markdown",
      "source": [
        "After this operation, concatenated_list would be [1, 2, 3, 4, 5, 6].\n",
        "\n",
        "The list replication operator in Python is *. It is used to replicate a list by repeating its elements a specified number of times."
      ],
      "metadata": {
        "id": "Q1KoDLfbeCll"
      }
    },
    {
      "cell_type": "code",
      "source": [
        "original_list = [1, 2, 3]\n",
        "replicated_list = original_list * 3\n"
      ],
      "metadata": {
        "id": "btP2JAzLeFt6"
      },
      "execution_count": null,
      "outputs": []
    },
    {
      "cell_type": "markdown",
      "source": [
        "After this operation, replicated_list would be [1, 2, 3, 1, 2, 3, 1, 2, 3]."
      ],
      "metadata": {
        "id": "yXnmXHExeKTZ"
      }
    },
    {
      "cell_type": "markdown",
      "source": [
        "10. What is difference between the list methods append() and insert()?"
      ],
      "metadata": {
        "id": "EBK_g2RqeLei"
      }
    },
    {
      "cell_type": "markdown",
      "source": [
        "The append() and insert() methods are both used to add elements to a list in Python, but they differ in how they add elements:\n",
        "\n",
        "1.append() method:\n",
        "\n",
        "* Syntax: list.append(element)\n",
        "* Adds the specified element to the end of the list.\n",
        "* Modifies the original list in-place.\n",
        "* It does not require specifying an index; the element is simply added to the end.\n",
        "Example:"
      ],
      "metadata": {
        "id": "BWn3lQWIeXqq"
      }
    },
    {
      "cell_type": "code",
      "source": [
        "my_list = [1, 2, 3]\n",
        "my_list.append(4)\n",
        "# Result: [1, 2, 3, 4]\n",
        "\n"
      ],
      "metadata": {
        "id": "qd5h6bXyebej"
      },
      "execution_count": null,
      "outputs": []
    },
    {
      "cell_type": "markdown",
      "source": [
        "2.insert() method:\n",
        "\n",
        "* Syntax: list.insert(index, element)\n",
        "* Adds the specified element at the given index in the list.\n",
        "* Modifies the original list in-place.\n",
        "* The index parameter determines where the element will be inserted, and existing elements are shifted to accommodate the new one.\n",
        "Example:"
      ],
      "metadata": {
        "id": "C0C_T6z2erIv"
      }
    },
    {
      "cell_type": "code",
      "source": [
        "my_list = [1, 2, 3]\n",
        "my_list.insert(1, 5)\n",
        "# Result: [1, 5, 2, 3]\n"
      ],
      "metadata": {
        "id": "hbec_R6XesjG"
      },
      "execution_count": null,
      "outputs": []
    },
    {
      "cell_type": "markdown",
      "source": [
        "In summary, append() adds an element to the end of the list, while insert() allows you to specify the index at which the element should be inserted."
      ],
      "metadata": {
        "id": "LPS1-GOmfGMB"
      }
    },
    {
      "cell_type": "markdown",
      "source": [
        "11. What are the two methods for removing items from a list?"
      ],
      "metadata": {
        "id": "Q8mroo3DfsNF"
      }
    },
    {
      "cell_type": "markdown",
      "source": [
        "There are two main methods for removing items from a list in Python:\n",
        "\n",
        "1.remove() method:\n",
        "\n",
        "* Syntax: list.remove(element)\n",
        "* Removes the first occurrence of the specified element from the list.\n",
        "* Modifies the original list in-place.\n",
        "* Raises a ValueError if the specified element is not found in the list.\n",
        "Example:"
      ],
      "metadata": {
        "id": "fZ2jd6nkftWd"
      }
    },
    {
      "cell_type": "code",
      "source": [
        "my_list = [1, 2, 3, 2]\n",
        "my_list.remove(2)\n",
        "# Result: [1, 3, 2]\n"
      ],
      "metadata": {
        "id": "ncxL_ix-f165"
      },
      "execution_count": 9,
      "outputs": []
    },
    {
      "cell_type": "markdown",
      "source": [
        "2.pop() method:\n",
        "\n",
        "* Syntax: 'list.pop([index])'\n",
        "* Removes and returns the element at the specified index (or the last element if the index is not provided).\n",
        "* Modifies the original list in-place.\n",
        "* Raises an IndexError if the index is out of range.\n",
        "Example:"
      ],
      "metadata": {
        "id": "dS4KTmtigCpz"
      }
    },
    {
      "cell_type": "code",
      "source": [
        "my_list = [1, 2, 3]\n",
        "popped_element = my_list.pop(1)\n",
        "# Result: my_list is now [1, 3], and popped_element is 2\n"
      ],
      "metadata": {
        "id": "FRFwA2V1gN4H"
      },
      "execution_count": 10,
      "outputs": []
    },
    {
      "cell_type": "markdown",
      "source": [
        "These methods provide flexibility for removing elements based on either their value (remove()) or their position (pop())."
      ],
      "metadata": {
        "id": "OSzCu00zgUhi"
      }
    },
    {
      "cell_type": "markdown",
      "source": [
        "12. Describe how list values and string values are identical."
      ],
      "metadata": {
        "id": "MZZob2-QgZIc"
      }
    },
    {
      "cell_type": "markdown",
      "source": [
        "\n",
        "List values and string values in Python share several similarities:\n",
        "\n",
        "1.Sequential Data: Both lists and strings are ordered sequences of elements. Elements in both data types have a specific order, and you can access them using indices.\n",
        "\n",
        "2.Indexing and Slicing: You can use indexing to access individual elements and slicing to extract sub-sequences from both lists and strings."
      ],
      "metadata": {
        "id": "iCo6r8_Lgafy"
      }
    },
    {
      "cell_type": "code",
      "source": [
        "my_list = [1, 2, 3, 4]\n",
        "my_string = \"hello\"\n",
        "\n",
        "print(my_list[2])      # Outputs: 3\n",
        "print(my_string[1])    # Outputs: 'e'\n",
        "\n",
        "print(my_list[1:3])    # Outputs: [2, 3]\n",
        "print(my_string[1:4])  # Outputs: 'ell'\n"
      ],
      "metadata": {
        "colab": {
          "base_uri": "https://localhost:8080/"
        },
        "id": "VtNOWCgMmDLh",
        "outputId": "5eb43f4c-f0e3-4ca7-e836-940274f39169"
      },
      "execution_count": 11,
      "outputs": [
        {
          "output_type": "stream",
          "name": "stdout",
          "text": [
            "3\n",
            "e\n",
            "[2, 3]\n",
            "ell\n"
          ]
        }
      ]
    },
    {
      "cell_type": "markdown",
      "source": [
        "3.Iteration: Both lists and strings can be iterated over using loops"
      ],
      "metadata": {
        "id": "q2YSbKhVmMYL"
      }
    },
    {
      "cell_type": "code",
      "source": [
        "for element in my_list:\n",
        "    print(element)\n",
        "\n",
        "for char in my_string:\n",
        "    print(char)\n"
      ],
      "metadata": {
        "colab": {
          "base_uri": "https://localhost:8080/"
        },
        "id": "CRrYPhibmOrX",
        "outputId": "b403ef26-8579-425a-e3b9-6a18490e5904"
      },
      "execution_count": 12,
      "outputs": [
        {
          "output_type": "stream",
          "name": "stdout",
          "text": [
            "1\n",
            "2\n",
            "3\n",
            "4\n",
            "h\n",
            "e\n",
            "l\n",
            "l\n",
            "o\n"
          ]
        }
      ]
    },
    {
      "cell_type": "markdown",
      "source": [
        "4.Len Function: You can use the len() function to determine the number of elements (length) in both lists and strings."
      ],
      "metadata": {
        "id": "uxBPaKORmV8b"
      }
    },
    {
      "cell_type": "code",
      "source": [
        "print(len(my_list))     # Outputs: 4\n",
        "print(len(my_string))   # Outputs: 5\n"
      ],
      "metadata": {
        "colab": {
          "base_uri": "https://localhost:8080/"
        },
        "id": "6zgJL1oZmZhj",
        "outputId": "6678cad3-b434-44bb-d31a-6dd352538c51"
      },
      "execution_count": 13,
      "outputs": [
        {
          "output_type": "stream",
          "name": "stdout",
          "text": [
            "4\n",
            "5\n"
          ]
        }
      ]
    },
    {
      "cell_type": "markdown",
      "source": [
        "However, there are also key differences, such as mutability. Lists are mutable (you can modify their elements), whereas strings are immutable (you cannot change individual characters once the string is created). Understanding these similarities and differences is essential when working with lists and strings in Python."
      ],
      "metadata": {
        "id": "bzJ1deugmfRT"
      }
    },
    {
      "cell_type": "markdown",
      "source": [
        "13. What&#39;s the difference between tuples and lists?"
      ],
      "metadata": {
        "id": "ny5Cx70hmoVR"
      }
    },
    {
      "cell_type": "markdown",
      "source": [
        "Tuples and lists are both data structures in Python, but they have some key differences:\n",
        "\n",
        "1.Mutability:\n",
        "\n",
        "\n",
        "\n",
        "*   Lists: Lists are mutable, meaning you can modify their elements, add new elements, or remove existing ones after the list is created.\n",
        "*   Tuples: Tuples are immutable, once they are created, you cannot change, add, or remove elements. However, you can create a new tuple with modifications.\n",
        "\n",
        "\n",
        "2.Syntax:\n",
        "\n",
        "* Lists: Defined using square brackets []."
      ],
      "metadata": {
        "id": "4m5iaB0Jmprb"
      }
    },
    {
      "cell_type": "code",
      "source": [
        "my_list = [1, 2, 3]\n"
      ],
      "metadata": {
        "id": "Mb_SOhIXnlJ9"
      },
      "execution_count": 14,
      "outputs": []
    },
    {
      "cell_type": "markdown",
      "source": [
        "* Tuples: Defined using parentheses ()."
      ],
      "metadata": {
        "id": "GEWgEcSPnsSP"
      }
    },
    {
      "cell_type": "code",
      "source": [
        "my_tuple = (1, 2, 3)\n"
      ],
      "metadata": {
        "id": "TFO9PgoFnyzJ"
      },
      "execution_count": 15,
      "outputs": []
    },
    {
      "cell_type": "markdown",
      "source": [
        "3.Use Cases:\n",
        "\n",
        "* Lists: Used when the order and mutability of elements matter, and when you need a dynamic collection that can be modified during the program's execution.\n",
        "* Tuples: Used when you want an immutable, ordered collection, especially for situations where the data should not be modified, like representing fixed collections.\n",
        "4.Performance:\n",
        "\n",
        "* Lists: Generally have a slightly higher memory overhead and may be slightly slower for certain operations due to their mutability.\n",
        "* Tuples: Tend to have slightly better performance because of their immutability.\n",
        "5.Methods:\n",
        "\n",
        "* Lists: Have more built-in methods for modification, such as append(), extend(), remove(), and pop().\n",
        "* Tuples: Have fewer methods since they are immutable, but they do have methods like count() and index().\n",
        "Here's an example to illustrate the differences:"
      ],
      "metadata": {
        "id": "z2vWXGVsoGuf"
      }
    },
    {
      "cell_type": "code",
      "source": [
        "my_list = [1, 2, 3]\n",
        "my_tuple = (1, 2, 3)\n",
        "\n",
        "# Modifying a list\n",
        "my_list[0] = 4\n",
        "print(my_list)  # Outputs: [4, 2, 3]\n",
        "\n",
        "# Attempting to modify a tuple will result in an error\n",
        "# my_tuple[0] = 4  # This line would raise a TypeError\n"
      ],
      "metadata": {
        "colab": {
          "base_uri": "https://localhost:8080/"
        },
        "id": "kH_FXoMWofhl",
        "outputId": "fa39e7d8-ea2f-4af2-d374-4d85e658cd7b"
      },
      "execution_count": 16,
      "outputs": [
        {
          "output_type": "stream",
          "name": "stdout",
          "text": [
            "[4, 2, 3]\n"
          ]
        }
      ]
    },
    {
      "cell_type": "markdown",
      "source": [
        "In summary, use lists when you need a mutable, dynamic collection, and use tuples when you want an immutable, ordered collection."
      ],
      "metadata": {
        "id": "mPYotbjQomuc"
      }
    },
    {
      "cell_type": "markdown",
      "source": [
        "14. How do you type a tuple value that only contains the integer 42?"
      ],
      "metadata": {
        "id": "uMjLkrDNp0uT"
      }
    },
    {
      "cell_type": "markdown",
      "source": [
        "\n",
        "To create a tuple that only contains the integer 42, you need to use parentheses and include the value inside. Here's the syntax:"
      ],
      "metadata": {
        "id": "_TzH5YE0p1Qc"
      }
    },
    {
      "cell_type": "code",
      "source": [
        "my_tuple = (42,)\n"
      ],
      "metadata": {
        "id": "BAViRDafp6cl"
      },
      "execution_count": 17,
      "outputs": []
    },
    {
      "cell_type": "markdown",
      "source": [
        "The comma after the 42 is important, as it indicates that you are creating a tuple with a single element. Without the comma, Python would interpret the expression as just an integer enclosed in parentheses.\n",
        "\n",
        "Now, my_tuple is a tuple containing the integer 42."
      ],
      "metadata": {
        "id": "O_zKI9fkqCOD"
      }
    },
    {
      "cell_type": "markdown",
      "source": [
        "15. How do you get a list value&#39;s tuple form? How do you get a tuple value&#39;s list form?"
      ],
      "metadata": {
        "id": "yXTtsfSCqElY"
      }
    },
    {
      "cell_type": "markdown",
      "source": [
        "\n",
        "You can convert a list to a tuple using the tuple() constructor, and similarly, you can convert a tuple to a list using the list() constructor. Here's how you can do it:\n",
        "\n",
        "Converting a list to a tuple:"
      ],
      "metadata": {
        "id": "ettdDTi5qIbv"
      }
    },
    {
      "cell_type": "code",
      "source": [
        "my_list = [1, 2, 3]\n",
        "tuple_form = tuple(my_list)\n"
      ],
      "metadata": {
        "id": "hx0J8eK8rBMq"
      },
      "execution_count": 18,
      "outputs": []
    },
    {
      "cell_type": "markdown",
      "source": [
        "In this example, tuple_form will be a tuple containing the elements of my_list.\n",
        "\n",
        "Converting a tuple to a list:"
      ],
      "metadata": {
        "id": "9cfxobocrEYj"
      }
    },
    {
      "cell_type": "code",
      "source": [
        "my_tuple = (4, 5, 6)\n",
        "list_form = list(my_tuple)\n"
      ],
      "metadata": {
        "id": "ZumycuQErOkz"
      },
      "execution_count": 19,
      "outputs": []
    },
    {
      "cell_type": "markdown",
      "source": [
        "In this example, list_form will be a list containing the elements of my_tuple.\n",
        "\n",
        "These conversions allow you to switch between the two data types based on your needs. Keep in mind that the elements themselves are not modified; only the container type changes."
      ],
      "metadata": {
        "id": "TUQa0v_ErWtm"
      }
    },
    {
      "cell_type": "markdown",
      "source": [
        "16. Variables that &quot;contain&quot; list values are not necessarily lists themselves. Instead, what do they\n",
        "contain?"
      ],
      "metadata": {
        "id": "PR2bri3frcAW"
      }
    },
    {
      "cell_type": "markdown",
      "source": [
        "Variables that \"contain\" list values in Python actually contain references to the list objects, not the lists themselves. In Python, variables are references or pointers to objects in memory rather than direct storage locations. When you assign a list to a variable, you're essentially storing a reference to the memory location where the list is stored.\n",
        "\n",
        "Here's an example to illustrate this:"
      ],
      "metadata": {
        "id": "q873ve3xrc_C"
      }
    },
    {
      "cell_type": "code",
      "source": [
        "original_list = [1, 2, 3]\n",
        "my_variable = original_list\n"
      ],
      "metadata": {
        "id": "u-HACKNCsBOD"
      },
      "execution_count": 20,
      "outputs": []
    },
    {
      "cell_type": "markdown",
      "source": [
        "In this example, my_variable now references the same memory location as original_list. If you modify the list through one variable, the change is reflected in the other:"
      ],
      "metadata": {
        "id": "ok6QJkGksFoV"
      }
    },
    {
      "cell_type": "code",
      "source": [
        "my_variable.append(4)\n",
        "print(original_list)  # Outputs: [1, 2, 3, 4]\n"
      ],
      "metadata": {
        "colab": {
          "base_uri": "https://localhost:8080/"
        },
        "id": "-PVJCG0nsIxM",
        "outputId": "ca9872fc-6434-4f16-d4e1-68a3e1e133b9"
      },
      "execution_count": 21,
      "outputs": [
        {
          "output_type": "stream",
          "name": "stdout",
          "text": [
            "[1, 2, 3, 4]\n"
          ]
        }
      ]
    },
    {
      "cell_type": "markdown",
      "source": [
        "This is because both my_variable and original_list point to the same list object in memory. Understanding this reference mechanism is important when working with mutable objects like lists in Python. It helps clarify how changes to the object affect variables that reference it."
      ],
      "metadata": {
        "id": "o_0czW77sQ0y"
      }
    },
    {
      "cell_type": "markdown",
      "source": [
        "17. How do you distinguish between copy.copy() and copy.deepcopy()?"
      ],
      "metadata": {
        "id": "oHNAWDmfsU1l"
      }
    },
    {
      "cell_type": "markdown",
      "source": [
        "copy.copy() and copy.deepcopy() are functions provided by the copy module in Python for creating copies of objects. They are particularly useful when dealing with mutable objects like lists or dictionaries. The key distinction between the two lies in the level of copying performed:\n",
        "\n",
        "1.copy.copy():\n",
        "\n",
        "* Creates a shallow copy of an object.\n",
        "* Copies the top-level structure of the object but does not create new copies of nested objects within it.\n",
        "* If the original object contains references to mutable objects (e.g., lists within a list), the references to those objects are shared between the original and the copy.\n",
        "Example:"
      ],
      "metadata": {
        "id": "p684Z5dstAyK"
      }
    },
    {
      "cell_type": "code",
      "source": [
        "import copy\n",
        "\n",
        "original_list = [1, [2, 3], 4]\n",
        "shallow_copy = copy.copy(original_list)\n",
        "\n",
        "shallow_copy[1][0] = 'modified'\n",
        "\n",
        "print(original_list)  # Outputs: [1, ['modified', 3], 4]\n"
      ],
      "metadata": {
        "colab": {
          "base_uri": "https://localhost:8080/"
        },
        "id": "0S0Zu_v-tj9W",
        "outputId": "d6d3bac9-fbd8-4f1d-86c1-ddebc21e7d1f"
      },
      "execution_count": 22,
      "outputs": [
        {
          "output_type": "stream",
          "name": "stdout",
          "text": [
            "[1, ['modified', 3], 4]\n"
          ]
        }
      ]
    },
    {
      "cell_type": "markdown",
      "source": [
        "2.copy.deepcopy():\n",
        "\n",
        "Creates a deep copy of an object.\n",
        "Recursively copies the entire structure of the object, including all nested objects, creating entirely independent copies.\n",
        "No references are shared between the original and the deep copy.\n",
        "Example:"
      ],
      "metadata": {
        "id": "IJB9lE7UtojJ"
      }
    },
    {
      "cell_type": "code",
      "source": [
        "import copy\n",
        "\n",
        "original_list = [1, [2, 3], 4]\n",
        "deep_copy = copy.deepcopy(original_list)\n",
        "\n",
        "deep_copy[1][0] = 'modified'\n",
        "\n",
        "print(original_list)  # Outputs: [1, [2, 3], 4]\n"
      ],
      "metadata": {
        "colab": {
          "base_uri": "https://localhost:8080/"
        },
        "id": "eCfOqOtstwPo",
        "outputId": "32a1ef84-2592-46d9-a287-63043f983fe5"
      },
      "execution_count": 23,
      "outputs": [
        {
          "output_type": "stream",
          "name": "stdout",
          "text": [
            "[1, [2, 3], 4]\n"
          ]
        }
      ]
    },
    {
      "cell_type": "markdown",
      "source": [
        "In summary, copy.copy() creates a new object with a new top-level structure, but it still shares references to nested mutable objects, while copy.deepcopy() creates a new object with an entirely independent structure, recursively copying all nested objects. The choice between them depends on the specific requirements of your use case."
      ],
      "metadata": {
        "id": "9Xy6PXZat48w"
      }
    }
  ]
}